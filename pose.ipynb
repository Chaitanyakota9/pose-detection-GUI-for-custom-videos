{
 "cells": [
  {
   "cell_type": "code",
   "execution_count": 2,
   "metadata": {},
   "outputs": [],
   "source": [
    "import cv2\n",
    "import mediapipe as mp\n",
    "import time\n",
    "import tkinter as tk\n",
    "from tkinter import filedialog\n",
    "from PIL import Image, ImageTk"
   ]
  },
  {
   "cell_type": "code",
   "execution_count": 3,
   "metadata": {},
   "outputs": [],
   "source": [
    "mpPose = mp.solutions.pose\n",
    "pose = mpPose.Pose()\n",
    "mpDraw = mp.solutions.drawing_utils"
   ]
  },
  {
   "cell_type": "code",
   "execution_count": 4,
   "metadata": {},
   "outputs": [
    {
     "name": "stderr",
     "output_type": "stream",
     "text": [
      "INFO: Created TensorFlow Lite XNNPACK delegate for CPU.\n"
     ]
    }
   ],
   "source": [
    "root = tk.Tk()\n",
    "root.title('Pose Detection GUI')\n",
    "root.geometry('800x600')\n",
    "root.configure(background='black')\n",
    "root.resizable(False, False)\n",
    "title_label = tk.Label(root, text='Pose Detection For Custom video', bg='black', fg='white', font=('arial', 18, 'bold'))\n",
    "title_label.pack(pady=20)\n"
   ]
  },
  {
   "cell_type": "code",
   "execution_count": 5,
   "metadata": {},
   "outputs": [],
   "source": [
    "# Create a label for displaying the video\n",
    "video_label = tk.Label(root)\n",
    "video_label.pack()"
   ]
  },
  {
   "cell_type": "code",
   "execution_count": 6,
   "metadata": {},
   "outputs": [],
   "source": [
    "cap = None"
   ]
  },
  {
   "cell_type": "code",
   "execution_count": 7,
   "metadata": {},
   "outputs": [],
   "source": [
    "def stop_processing():\n",
    "    global cap\n",
    "    if cap:\n",
    "        cap.release()\n",
    "        cap = None\n"
   ]
  },
  {
   "cell_type": "code",
   "execution_count": 8,
   "metadata": {},
   "outputs": [],
   "source": [
    "def process_video():\n",
    "    global cap\n",
    "    pTime = 0\n",
    "    \n",
    "    while cap.isOpened():\n",
    "        success, img = cap.read()\n",
    "        if not success:\n",
    "            stop_processing()\n",
    "            break\n",
    "        \n",
    "        results = pose.process(img)\n",
    "        \n",
    "        if results.pose_landmarks:\n",
    "            img_with_landmarks = img.copy()\n",
    "            mpDraw.draw_landmarks(img_with_landmarks, results.pose_landmarks, mpPose.POSE_CONNECTIONS)\n",
    "            for id, lm in enumerate(results.pose_landmarks.landmark):\n",
    "                h, w, c = img_with_landmarks.shape\n",
    "                cx, cy = int(lm.x * w), int(lm.y * h)\n",
    "                cv2.circle(img_with_landmarks, (cx, cy), 5, (255, 0, 0), cv2.FILLED)\n",
    "        \n",
    "        cTime = time.time()\n",
    "        fps = 1 / (cTime - pTime)\n",
    "        pTime = cTime\n",
    "        \n",
    "        cv2.putText(img_with_landmarks, str(int(fps)), (50, 50), cv2.FONT_HERSHEY_SIMPLEX, 1, (255, 0, 0), 3)\n",
    "        \n",
    "        processed_frame = Image.fromarray(cv2.cvtColor(img_with_landmarks, cv2.COLOR_BGR2RGB))\n",
    "        processed_frame = ImageTk.PhotoImage(image=processed_frame)\n",
    "        \n",
    "        video_label.config(image=processed_frame)\n",
    "        video_label.image = processed_frame\n",
    "        \n",
    "        root.update()\n",
    "        \n",
    "        if cv2.waitKey(1) & 0xFF == ord('q'):\n",
    "            stop_processing()\n",
    "            break"
   ]
  },
  {
   "cell_type": "code",
   "execution_count": 9,
   "metadata": {},
   "outputs": [],
   "source": [
    "# Function to start video processing\n",
    "def start_processing():\n",
    "    global cap\n",
    "    video_path = filedialog.askopenfilename(filetypes=[(\"Video files\", \"*.mp4\")])\n",
    "    if not video_path:\n",
    "        return\n",
    "    \n",
    "    title_label.pack_forget()\n",
    "    cap = cv2.VideoCapture(video_path)\n",
    "    process_video()\n"
   ]
  },
  {
   "cell_type": "code",
   "execution_count": 10,
   "metadata": {},
   "outputs": [],
   "source": [
    "start_button = tk.Button(root, text='Start Processing', command=start_processing)\n",
    "start_button.place(x = 50, y = 500)\n",
    "\n",
    "# Create a button to stop video processing\n",
    "stop_button = tk.Button(root, text='Stop Processing', command=stop_processing)\n",
    "stop_button.place(x=350, y=500)"
   ]
  },
  {
   "cell_type": "code",
   "execution_count": 11,
   "metadata": {},
   "outputs": [
    {
     "name": "stderr",
     "output_type": "stream",
     "text": [
      "2023-08-12 01:25:12.358 Python[95832:2907918] +[CATransaction synchronize] called within transaction\n",
      "2023-08-12 01:25:12.414 Python[95832:2907918] +[CATransaction synchronize] called within transaction\n",
      "Exception in Tkinter callback\n",
      "Traceback (most recent call last):\n",
      "  File \"/Library/Frameworks/Python.framework/Versions/3.11/lib/python3.11/tkinter/__init__.py\", line 1948, in __call__\n",
      "    return self.func(*args)\n",
      "           ^^^^^^^^^^^^^^^^\n",
      "  File \"/var/folders/zb/0dm6dwj9379g19ng9527dnym0000gn/T/ipykernel_95832/4294339885.py\", line 10, in start_processing\n",
      "    process_video()\n",
      "  File \"/var/folders/zb/0dm6dwj9379g19ng9527dnym0000gn/T/ipykernel_95832/2923505954.py\", line 25, in process_video\n",
      "    cv2.putText(img_with_landmarks, str(int(fps)), (50, 50), cv2.FONT_HERSHEY_SIMPLEX, 1, (255, 0, 0), 3)\n",
      "                ^^^^^^^^^^^^^^^^^^\n",
      "UnboundLocalError: cannot access local variable 'img_with_landmarks' where it is not associated with a value\n",
      "2023-08-12 01:25:18.779 Python[95832:2907918] +[CATransaction synchronize] called within transaction\n",
      "2023-08-12 01:25:18.824 Python[95832:2907918] +[CATransaction synchronize] called within transaction\n",
      "Exception in Tkinter callback\n",
      "Traceback (most recent call last):\n",
      "  File \"/Library/Frameworks/Python.framework/Versions/3.11/lib/python3.11/tkinter/__init__.py\", line 1948, in __call__\n",
      "    return self.func(*args)\n",
      "           ^^^^^^^^^^^^^^^^\n",
      "  File \"/var/folders/zb/0dm6dwj9379g19ng9527dnym0000gn/T/ipykernel_95832/4294339885.py\", line 10, in start_processing\n",
      "    process_video()\n",
      "  File \"/var/folders/zb/0dm6dwj9379g19ng9527dnym0000gn/T/ipykernel_95832/2923505954.py\", line 5, in process_video\n",
      "    while cap.isOpened():\n",
      "          ^^^^^^^^^^^^\n",
      "AttributeError: 'NoneType' object has no attribute 'isOpened'\n",
      "2023-08-12 01:25:27.299 Python[95832:2907918] +[CATransaction synchronize] called within transaction\n",
      "2023-08-12 01:25:27.344 Python[95832:2907918] +[CATransaction synchronize] called within transaction\n"
     ]
    }
   ],
   "source": [
    "root.mainloop()"
   ]
  },
  {
   "cell_type": "code",
   "execution_count": null,
   "metadata": {},
   "outputs": [],
   "source": []
  }
 ],
 "metadata": {
  "kernelspec": {
   "display_name": "Python 3",
   "language": "python",
   "name": "python3"
  },
  "language_info": {
   "codemirror_mode": {
    "name": "ipython",
    "version": 3
   },
   "file_extension": ".py",
   "mimetype": "text/x-python",
   "name": "python",
   "nbconvert_exporter": "python",
   "pygments_lexer": "ipython3",
   "version": "3.11.2"
  },
  "orig_nbformat": 4
 },
 "nbformat": 4,
 "nbformat_minor": 2
}
